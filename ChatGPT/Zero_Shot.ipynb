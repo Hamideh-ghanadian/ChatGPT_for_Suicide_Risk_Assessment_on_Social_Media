{
  "cells": [
    {
      "attachments": {},
      "cell_type": "markdown",
      "metadata": {},
      "source": [
        "# Zero Shot Learning"
      ]
    },
    {
      "cell_type": "code",
      "execution_count": null,
      "metadata": {
        "colab": {
          "base_uri": "https://localhost:8080/"
        },
        "id": "cQn8r4gQsDsR",
        "outputId": "20f1bab6-c399-489a-f511-64e1980ffadb"
      },
      "outputs": [],
      "source": [
        "!pip install --upgrade pip\n",
        "!pip install openai\n",
        "import openai\n",
        "import os\n",
        "import IPython\n",
        "import pandas as pd\n",
        "import time\n",
        "import nltk\n",
        "\n",
        "openai.api_key=\"Your API key\"   "
      ]
    },
    {
      "cell_type": "markdown",
      "metadata": {
        "id": "myuSkMC7ZHij"
      },
      "source": [
        "## Chat GPT API"
      ]
    },
    {
      "cell_type": "code",
      "execution_count": null,
      "metadata": {
        "id": "nXq1PjuyRyEI"
      },
      "outputs": [],
      "source": [
        "df_text=pd.read_csv(\"/content/drive/MyDrive/datatest1.csv\")\n",
        "\n",
        "df_text.head()\n",
        "\n",
        "\n",
        "results=[]\n",
        "for index, row in df_text.iterrows():\n",
        "    text = row['Post']\n",
        "    \n",
        "    res=openai.ChatCompletion.create(\n",
        "    model=\"gpt-3.5-turbo\",\n",
        "    messages=[{\"role\": \"system\", \"content\": \"\"\"You are a helpful assistant. specify the level of the suicidality of the text\n",
        "    based on following criteria: \n",
        "    0= I don’t see evidence that this person is at risk for suicide\n",
        "    1=There may be some factors here that could suggest risk but I don’t really think this person is at much of a risk of suicide\n",
        "    2= I see indications that there could be a genuine risk of this person making a suicide attempt\n",
        "    3= I believe this person is at high risk of attempting suicide in the near future.\n",
        "    Only say Numbers\"\"\"},\n",
        "        {\"role\": \"user\",\"content\":text}],\n",
        "\n",
        "        max_tokens=4,\n",
        "        temperature=0.1\n",
        "    )\n",
        "\n",
        "    results.append(res[\"choices\"][0][\"message\"][\"content\"])\n",
        "\n",
        "    if (index + 1) % 5 == 0:  # sleep for 61 second. \n",
        "      time.sleep(61)  \n",
        "    \n",
        "\n",
        "\n",
        "\n",
        "results\n",
        "df_text['suicidality_level'] = results"
      ]
    },
    {
      "cell_type": "code",
      "execution_count": null,
      "metadata": {
        "id": "mtWoXXbhLQCZ"
      },
      "outputs": [],
      "source": [
        "df_text.to_csv('/content/drive/MyDrive/final_temp_0.1.csv', index=False)"
      ]
    }
  ],
  "metadata": {
    "colab": {
      "authorship_tag": "ABX9TyO3dXQRg5VqTfoqIlFlYzxr",
      "include_colab_link": true,
      "mount_file_id": "1tZy49UzhOsYaLByPPP6a9YlZKuHY6Emy",
      "provenance": []
    },
    "gpuClass": "standard",
    "kernelspec": {
      "display_name": "Python 3",
      "name": "python3"
    },
    "language_info": {
      "name": "python"
    }
  },
  "nbformat": 4,
  "nbformat_minor": 0
}
