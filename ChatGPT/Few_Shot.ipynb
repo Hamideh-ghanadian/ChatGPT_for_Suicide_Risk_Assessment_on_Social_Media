{
  "cells": [
    {
      "attachments": {},
      "cell_type": "markdown",
      "metadata": {},
      "source": [
        "# Few Shot Learning"
      ]
    },
    {
      "cell_type": "code",
      "execution_count": null,
      "metadata": {
        "colab": {
          "base_uri": "https://localhost:8080/"
        },
        "id": "cQn8r4gQsDsR",
        "outputId": "20f1bab6-c399-489a-f511-64e1980ffadb"
      },
      "outputs": [],
      "source": [
        "!pip install --upgrade pip\n",
        "!pip install openai\n",
        "import openai\n",
        "import os\n",
        "import IPython\n",
        "import pandas as pd\n",
        "import time\n",
        "import nltk\n",
        "\n",
        "openai.api_key=\"Your API key\"   "
      ]
    },
    {
      "cell_type": "markdown",
      "metadata": {
        "id": "myuSkMC7ZHij"
      },
      "source": [
        "## Chat GPT API"
      ]
    },
    {
      "cell_type": "markdown",
      "metadata": {
        "id": "TVME5yScZxi9"
      },
      "source": [
        "**8 Training Example**\n",
        "\n"
      ]
    },
    {
      "cell_type": "code",
      "execution_count": null,
      "metadata": {
        "id": "eOlvkXn3xTu4"
      },
      "outputs": [],
      "source": [
        "Criteria=\"\"\" These are the criteria of different suicide risk level:\n",
        "         0= I do not see evidence that this person is at risk for suicide\n",
        "         1=There may be some factors here that could suggest risk but I do not really think this person is at much of a risk of suicide\n",
        "         2= I see indications that there could be a genuine risk of this person making a suicide attempt\n",
        "         3= I believe this person is at high risk of attempting suicide in the near future. \"\"\"\n",
        "        \n",
        " Examples=\"\"\"example 1 , Risk Level=0\n",
        "             example 2 , Risk Level=0\n",
        "             example 3 , Risk Level=1\n",
        "             example 4 , Risk Level=1\n",
        "             example 5 , Risk Level=2\n",
        "             example 6 , Risk Level=2\n",
        "             example 7 , Risk Level=3\n",
        "             example 8 , Risk Level=3\"\"\"\n",
        "\n",
        " Prompt= \"\"\" Your task is to specify the level of the suicidality of the text based on the given criteria and provided examples.\n",
        " provided examples:```{Example}```\n",
        " Risk level criteria: ```{Criteria}```\n",
        " \"\"\"\n",
        "        \n",
        " def get_completion(prompt, model=\"gpt-3.5-turbo\"):\n",
        "     messages = [{\"role\": \"user\", \"content\": prompt}]\n",
        "     response = openai.ChatCompletion.create(\n",
        "         model=model,\n",
        "         messages=messages,\n",
        "         max_tokens=8,\n",
        "         temperature=0.1, \n",
        "     )\n",
        "     return response.choices[0].message[\"content\"]\n",
        "\n",
        " response = get_completion(prompt)"
      ]
    }
  ],
  "metadata": {
    "colab": {
      "authorship_tag": "ABX9TyO3dXQRg5VqTfoqIlFlYzxr",
      "include_colab_link": true,
      "mount_file_id": "1tZy49UzhOsYaLByPPP6a9YlZKuHY6Emy",
      "provenance": []
    },
    "gpuClass": "standard",
    "kernelspec": {
      "display_name": "Python 3",
      "name": "python3"
    },
    "language_info": {
      "name": "python"
    }
  },
  "nbformat": 4,
  "nbformat_minor": 0
}
