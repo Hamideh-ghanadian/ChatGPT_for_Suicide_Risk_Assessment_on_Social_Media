{
  "cells": [
    {
      "cell_type": "markdown",
      "metadata": {
        "colab_type": "text",
        "id": "view-in-github"
      },
      "source": [
        "<a href=\"https://colab.research.google.com/github/Hamideh-ghanadian/ChatGPT_for_Suicide_Risk_Assessment_on_Social_Media/blob/main/Albert.ipynb\" target=\"_parent\"><img src=\"https://colab.research.google.com/assets/colab-badge.svg\" alt=\"Open In Colab\"/></a>"
      ]
    },
    {
      "attachments": {},
      "cell_type": "markdown",
      "metadata": {},
      "source": [
        "### ALBERT "
      ]
    },
    {
      "cell_type": "code",
      "execution_count": null,
      "metadata": {
        "colab": {
          "base_uri": "https://localhost:8080/"
        },
        "id": "Cij7UooyXPGZ",
        "outputId": "598a8ff5-4b98-4257-cadc-d4c7735a0447"
      },
      "outputs": [],
      "source": [
        "!pip install transformers\n",
        "!pip install datasets"
      ]
    },
    {
      "cell_type": "code",
      "execution_count": null,
      "metadata": {
        "id": "kv1zdsHpNLxy"
      },
      "outputs": [],
      "source": [
        "import pandas as pd\n",
        "from datasets import load_dataset"
      ]
    },
    {
      "cell_type": "code",
      "execution_count": null,
      "metadata": {
        "colab": {
          "base_uri": "https://localhost:8080/",
          "height": 363
        },
        "id": "rH-FbFj-WgR4",
        "outputId": "c1e6d854-172d-40bc-9378-5dbbcd79d938"
      },
      "outputs": [],
      "source": [
        "data = pd.read_csv('/content/drive/labeled-data.csv', encoding='UTF-8')"
      ]
    },
    {
      "cell_type": "code",
      "execution_count": null,
      "metadata": {
        "colab": {
          "base_uri": "https://localhost:8080/",
          "height": 363
        },
        "id": "qaBHv_DUQ_3e",
        "outputId": "1893d74a-4427-4307-ccc1-33267ef9db87"
      },
      "outputs": [],
      "source": [
        "clean=data.dropna()\n",
        "data= clean.reset_index(drop = True)\n",
        "data.head(10)"
      ]
    },
    {
      "cell_type": "code",
      "execution_count": null,
      "metadata": {
        "colab": {
          "base_uri": "https://localhost:8080/"
        },
        "id": "T14y9hTWQ_3f",
        "outputId": "0aa1fa05-9589-4e80-937f-200aac3ac72b"
      },
      "outputs": [
        {
          "data": {
            "text/plain": [
              "['a', 'b', 'c', 'd']"
            ]
          },
          "execution_count": 7,
          "metadata": {},
          "output_type": "execute_result"
        }
      ],
      "source": [
        "labels = list(data['label'].unique())\n",
        "labels"
      ]
    },
    {
      "cell_type": "code",
      "execution_count": null,
      "metadata": {
        "colab": {
          "base_uri": "https://localhost:8080/"
        },
        "id": "8msTbvxQQ_3f",
        "outputId": "66662e65-8fc0-45ee-b1de-e0dd284e7803"
      },
      "outputs": [],
      "source": [
        "numeric_labels =[labels.index(label) for label in labels]\n",
        "label_map =  dict(zip(labels, numeric_labels))\n",
        "label_map"
      ]
    },
    {
      "cell_type": "code",
      "execution_count": null,
      "metadata": {
        "id": "gZxqqJf3Q_3f"
      },
      "outputs": [],
      "source": [
        "dataset = []\n",
        "for index,row in data.iterrows():\n",
        "  item ={'label': label_map[row['label']],\n",
        "         'Post':row['post_body']}\n",
        "  dataset.append(item)"
      ]
    },
    {
      "cell_type": "code",
      "execution_count": null,
      "metadata": {
        "id": "XY5BwU6cQ_3g"
      },
      "outputs": [],
      "source": [
        "dataset_df = pd.DataFrame(dataset)"
      ]
    },
    {
      "cell_type": "code",
      "execution_count": null,
      "metadata": {
        "id": "-pk--WYDQ_3g"
      },
      "outputs": [],
      "source": [
        "from sklearn.model_selection import train_test_split\n",
        "X_train, X_test, y_train, y_test = train_test_split(list(dataset_df['Post'].values), list(dataset_df['label'].values), test_size=0.20, random_state=42)"
      ]
    },
    {
      "cell_type": "code",
      "execution_count": null,
      "metadata": {
        "id": "HFaeJSvkQ_3h"
      },
      "outputs": [],
      "source": [
        "train_data = pd.DataFrame()\n",
        "train_data['Post'] = X_train\n",
        "train_data['label'] = y_train\n",
        "\n",
        "test_data = pd.DataFrame()\n",
        "test_data['Post'] = X_test\n",
        "test_data['label'] = y_test"
      ]
    },
    {
      "cell_type": "code",
      "execution_count": null,
      "metadata": {
        "colab": {
          "base_uri": "https://localhost:8080/"
        },
        "id": "OovtQDuGQ_3h",
        "outputId": "ec10c083-8eea-42bc-ac46-c80e8e1343b1"
      },
      "outputs": [],
      "source": [
        "from transformers import AutoTokenizer,AlbertConfig, AlbertModel\n",
        "import torch\n",
        "\n",
        "tokenizer = AutoTokenizer.from_pretrained(\"albert-base-v2\")"
      ]
    },
    {
      "cell_type": "code",
      "execution_count": null,
      "metadata": {
        "id": "djSLKSIOQ_3h"
      },
      "outputs": [],
      "source": [
        "from transformers import DataCollatorWithPadding\n",
        "\n",
        "data_collator = DataCollatorWithPadding(tokenizer=tokenizer)"
      ]
    },
    {
      "cell_type": "code",
      "execution_count": null,
      "metadata": {
        "colab": {
          "base_uri": "https://localhost:8080/"
        },
        "id": "YTohyU1bd-re",
        "outputId": "8faa4897-5897-4cb9-f1ed-80cecedfcfe9"
      },
      "outputs": [],
      "source": [
        "from transformers import AutoModelForSequenceClassification, TrainingArguments, Trainer\n",
        "\n",
        "model = AutoModelForSequenceClassification.from_pretrained(\"albert-base-v2\", num_labels=4)  #https://huggingface.co/models"
      ]
    },
    {
      "cell_type": "code",
      "execution_count": null,
      "metadata": {
        "id": "-gwLRkDuJ1VU"
      },
      "outputs": [],
      "source": [
        "class MyDataset(torch.utils.data.Dataset):\n",
        "    def __init__(self, encodings, labels):\n",
        "        self.encodings = encodings\n",
        "        self.labels = labels\n",
        "\n",
        "    def __getitem__(self, idx):\n",
        "        item = {key: torch.tensor(val[idx]) for key, val in self.encodings.items()}\n",
        "        item['labels'] = torch.tensor(self.labels[idx])\n",
        "        return item\n",
        "\n",
        "    def __len__(self):\n",
        "        return len(self.labels)"
      ]
    },
    {
      "cell_type": "code",
      "execution_count": null,
      "metadata": {
        "id": "VE65dDQFKe2O"
      },
      "outputs": [],
      "source": [
        "train_encodings = tokenizer(train_data['Post'].values.tolist(), truncation=True, padding=True,return_tensors=\"pt\", max_length=512)\n",
        "train_labels =train_data['label'].values.tolist()  #placeholders, not real labels\n",
        "\n",
        "train_dataset = MyDataset(train_encodings, train_labels)"
      ]
    },
    {
      "cell_type": "code",
      "execution_count": null,
      "metadata": {
        "colab": {
          "base_uri": "https://localhost:8080/"
        },
        "id": "FxhKC1Sfe-Ri",
        "outputId": "ef6aa1c5-8b66-438b-9e10-75a4d823b5a7"
      },
      "outputs": [],
      "source": [
        "train_dataset"
      ]
    },
    {
      "cell_type": "code",
      "execution_count": null,
      "metadata": {
        "id": "lhZqgPjo1Dp_"
      },
      "outputs": [],
      "source": [
        "test_encodings = tokenizer(test_data['Post'].values.tolist(), truncation=True, padding=True,return_tensors=\"pt\", max_length=512)\n",
        "test_labels =test_data['label'].values.tolist()  #placeholders, not real labels\n",
        "\n",
        "test_dataset = MyDataset(test_encodings, test_labels)"
      ]
    },
    {
      "cell_type": "code",
      "execution_count": null,
      "metadata": {
        "colab": {
          "base_uri": "https://localhost:8080/"
        },
        "id": "WasCMg5f1PJ2",
        "outputId": "cb6ff22a-3fb5-4792-ec89-c6d4e562134a"
      },
      "outputs": [],
      "source": [
        "test_dataset"
      ]
    },
    {
      "cell_type": "code",
      "execution_count": null,
      "metadata": {
        "colab": {
          "base_uri": "https://localhost:8080/"
        },
        "id": "B5o714OT8p3i",
        "outputId": "97962595-ebc9-4773-c4ef-6da1e492819e"
      },
      "outputs": [],
      "source": [
        "!pip install sklearn\n",
        "import numpy as np\n",
        "from datasets import load_metric\n",
        "from sklearn.metrics import precision_recall_fscore_support\n",
        "\n",
        "\n",
        "def compute_metrics(eval_pred):\n",
        "    metric = load_metric(\"accuracy\")\n",
        "    metrics = ['recall', 'precision', 'f1']\n",
        "\n",
        "    logits, labels = eval_pred\n",
        "    predictions = np.argmax(logits, axis=-1)\n",
        "\n",
        "    # Compute accuracy\n",
        "    acc = metric.compute(predictions=predictions, references=labels)\n",
        "\n",
        "    # Compute precision, recall, and F1 score for each class\n",
        "    precision, recall, f1, _ = precision_recall_fscore_support(labels, predictions, average='weighted')\n",
        "\n",
        "    # Create a dictionary to store the results\n",
        "    metric_res = {'accuracy': acc['accuracy'], 'precision': precision, 'recall': recall, 'f1': f1}\n",
        "\n",
        "    return metric_res\n"
      ]
    },
    {
      "cell_type": "code",
      "execution_count": null,
      "metadata": {
        "colab": {
          "base_uri": "https://localhost:8080/"
        },
        "id": "DkAL2W_CeC1h",
        "outputId": "3d332e5e-38d1-41b4-f7b1-8c25f21a41b0"
      },
      "outputs": [],
      "source": [
        "training_args = TrainingArguments(\n",
        "    output_dir=\"./out\",\n",
        "    learning_rate=2e-5,\n",
        "    per_device_train_batch_size=4,\n",
        "    per_device_eval_batch_size=4,\n",
        "    num_train_epochs=5,\n",
        "    weight_decay=0.01,\n",
        "    evaluation_strategy = \"epoch\", #To calculate metrics per epoch\n",
        "    logging_strategy=\"epoch\", #Extra: to log training data stats for loss \n",
        ")\n",
        "import transformers\n",
        "transformers.logging.set_verbosity_info()\n",
        "\n",
        "trainer = Trainer(\n",
        "    model=model,\n",
        "    args=training_args,\n",
        "    train_dataset=train_dataset,\n",
        "    eval_dataset=train_dataset,\n",
        "    tokenizer=tokenizer,\n",
        "    data_collator=data_collator,\n",
        "    compute_metrics=compute_metrics\n",
        ")\n",
        "\n"
      ]
    },
    {
      "cell_type": "code",
      "execution_count": null,
      "metadata": {
        "colab": {
          "base_uri": "https://localhost:8080/",
          "height": 1000
        },
        "id": "Dh7oc_6xTlTq",
        "outputId": "356a4c3b-4b5c-483a-a048-0773ab627a54"
      },
      "outputs": [],
      "source": [
        "trainer.train()"
      ]
    },
    {
      "cell_type": "code",
      "execution_count": null,
      "metadata": {
        "colab": {
          "base_uri": "https://localhost:8080/",
          "height": 300
        },
        "id": "zwLiCCAd1vjt",
        "outputId": "cb19d65c-c156-4377-ef35-42452588b69b"
      },
      "outputs": [],
      "source": [
        "trainer.evaluate(test_dataset)"
      ]
    }
  ],
  "metadata": {
    "accelerator": "GPU",
    "colab": {
      "authorship_tag": "ABX9TyPUt/hMemJvdcmoKKH+nx7Z",
      "collapsed_sections": [
        "2zSbnNWdSMhB"
      ],
      "gpuClass": "premium",
      "include_colab_link": true,
      "machine_shape": "hm",
      "mount_file_id": "1sNxpGDZ4Upr64zQybsalHy7mA3SsIKIZ",
      "provenance": []
    },
    "gpuClass": "premium",
    "kernelspec": {
      "display_name": "Python 3",
      "name": "python3"
    },
    "language_info": {
      "name": "python"
    }
  },
  "nbformat": 4,
  "nbformat_minor": 0
}
